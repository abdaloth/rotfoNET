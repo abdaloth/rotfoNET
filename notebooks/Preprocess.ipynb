{
 "cells": [
  {
   "cell_type": "code",
   "execution_count": 30,
   "metadata": {},
   "outputs": [],
   "source": [
    "from tqdm.notebook import tqdm\n",
    "from PIL import Image\n",
    "import os\n",
    "import numpy as np\n",
    "import torch\n",
    "import pandas as pd\n",
    "import matplotlib.pyplot as plt\n",
    "from skimage.io import imread"
   ]
  },
  {
   "cell_type": "markdown",
   "metadata": {},
   "source": [
    "# Instructions\n",
    "\n",
    "1. Change directories\n",
    "2. Run notebook\n",
    "\n",
    "The notebook will resume if it is partially done."
   ]
  },
  {
   "cell_type": "code",
   "execution_count": 53,
   "metadata": {},
   "outputs": [
    {
     "data": {
      "application/vnd.jupyter.widget-view+json": {
       "model_id": "6896a105066f47a9858d9e5743b1127f",
       "version_major": 2,
       "version_minor": 0
      },
      "text/plain": [
       "HBox(children=(FloatProgress(value=0.0, description='Processing Images', max=118287.0, style=ProgressStyle(des…"
      ]
     },
     "metadata": {},
     "output_type": "display_data"
    },
    {
     "name": "stdout",
     "output_type": "stream",
     "text": [
      "\n"
     ]
    },
    {
     "ename": "KeyboardInterrupt",
     "evalue": "",
     "output_type": "error",
     "traceback": [
      "\u001b[0;31m---------------------------------------------------------------------------\u001b[0m",
      "\u001b[0;31mKeyboardInterrupt\u001b[0m                         Traceback (most recent call last)",
      "\u001b[0;32m<timed exec>\u001b[0m in \u001b[0;36m<module>\u001b[0;34m\u001b[0m\n",
      "\u001b[0;32m/opt/conda/lib/python3.7/site-packages/PIL/Image.py\u001b[0m in \u001b[0;36mresize\u001b[0;34m(self, size, resample, box, reducing_gap)\u001b[0m\n\u001b[1;32m   1927\u001b[0m                 )\n\u001b[1;32m   1928\u001b[0m \u001b[0;34m\u001b[0m\u001b[0m\n\u001b[0;32m-> 1929\u001b[0;31m         \u001b[0;32mreturn\u001b[0m \u001b[0mself\u001b[0m\u001b[0;34m.\u001b[0m\u001b[0m_new\u001b[0m\u001b[0;34m(\u001b[0m\u001b[0mself\u001b[0m\u001b[0;34m.\u001b[0m\u001b[0mim\u001b[0m\u001b[0;34m.\u001b[0m\u001b[0mresize\u001b[0m\u001b[0;34m(\u001b[0m\u001b[0msize\u001b[0m\u001b[0;34m,\u001b[0m \u001b[0mresample\u001b[0m\u001b[0;34m,\u001b[0m \u001b[0mbox\u001b[0m\u001b[0;34m)\u001b[0m\u001b[0;34m)\u001b[0m\u001b[0;34m\u001b[0m\u001b[0;34m\u001b[0m\u001b[0m\n\u001b[0m\u001b[1;32m   1930\u001b[0m \u001b[0;34m\u001b[0m\u001b[0m\n\u001b[1;32m   1931\u001b[0m     \u001b[0;32mdef\u001b[0m \u001b[0mreduce\u001b[0m\u001b[0;34m(\u001b[0m\u001b[0mself\u001b[0m\u001b[0;34m,\u001b[0m \u001b[0mfactor\u001b[0m\u001b[0;34m,\u001b[0m \u001b[0mbox\u001b[0m\u001b[0;34m=\u001b[0m\u001b[0;32mNone\u001b[0m\u001b[0;34m)\u001b[0m\u001b[0;34m:\u001b[0m\u001b[0;34m\u001b[0m\u001b[0;34m\u001b[0m\u001b[0m\n",
      "\u001b[0;31mKeyboardInterrupt\u001b[0m: "
     ]
    }
   ],
   "source": [
    "%%time\n",
    "\n",
    "data_dir = \"./data/train2017\"\n",
    "out_dir = \"./data/train2017_processed/originals\"\n",
    "out_dir_masked = \"./data/train2017_processed/masked\"\n",
    "image_dim = 224\n",
    "\n",
    "try:\n",
    "    os.mkdir(out_dir)\n",
    "    os.mkdir(out_dir_masked)\n",
    "except FileExistsError:\n",
    "    pass\n",
    "\n",
    "annos = pd.read_pickle(\"./annotations_train2017.pickle\")\n",
    "\n",
    "# For resuming partially done\n",
    "done = os.listdir(out_dir)\n",
    "done_masked = os.listdir(out_dir_masked)\n",
    "\n",
    "for image_filename in tqdm(os.listdir(data_dir), \"Processing Images\"):\n",
    "    \n",
    "    image_id = int(image_filename.split(\".\")[0])\n",
    "    \n",
    "    masked_out_paths = [str(image_id) + f\"_masked_{idx}.npy\" for idx in range(0,5)]\n",
    "    full_out_path = str(image_id) + \".npy\"\n",
    "    exists = True\n",
    "    if full_out_path not in done:\n",
    "        exists = False\n",
    "    \n",
    "    for out_path in masked_out_paths:\n",
    "        if out_path not in done_masked:\n",
    "            exists = False\n",
    "            break\n",
    "    if exists:\n",
    "        continue\n",
    "    \n",
    "    image_path = os.path.join(data_dir, image_filename)\n",
    "    im = Image.open(image_path)\n",
    "    im = im.resize((image_dim, image_dim))\n",
    "    \n",
    "    full_image = np.array(im) / 255\n",
    "    \n",
    "\n",
    "\n",
    "    with open(os.path.join(out_dir, full_out_path), 'wb') as f:\n",
    "        np.save(f, full_image)\n",
    "\n",
    "    for idx in range(5):\n",
    "\n",
    "        anno = annos[image_id][idx]\n",
    "\n",
    "        temp = full_image.copy()\n",
    "        temp[anno['coord_start'][0]:anno['coord_end'][0],anno['coord_start'][1]:anno['coord_end'][1]] = 0\n",
    "\n",
    "        with open(os.path.join(out_dir_masked, masked_out_paths[idx]), 'wb') as f:\n",
    "            np.save(f, temp)"
   ]
  },
  {
   "cell_type": "code",
   "execution_count": null,
   "metadata": {},
   "outputs": [],
   "source": []
  }
 ],
 "metadata": {
  "kernelspec": {
   "display_name": "Python 3",
   "language": "python",
   "name": "python3"
  },
  "language_info": {
   "codemirror_mode": {
    "name": "ipython",
    "version": 3
   },
   "file_extension": ".py",
   "mimetype": "text/x-python",
   "name": "python",
   "nbconvert_exporter": "python",
   "pygments_lexer": "ipython3",
   "version": "3.7.6"
  }
 },
 "nbformat": 4,
 "nbformat_minor": 4
}
